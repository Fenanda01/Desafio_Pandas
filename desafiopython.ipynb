{
  "nbformat": 4,
  "nbformat_minor": 0,
  "metadata": {
    "colab": {
      "name": "desafiopython.ipynb",
      "provenance": [],
      "authorship_tag": "ABX9TyOFo/rFJjY+x/uimSineAQa",
      "include_colab_link": true
    },
    "kernelspec": {
      "name": "python3",
      "display_name": "Python 3"
    },
    "language_info": {
      "name": "python"
    }
  },
  "cells": [
    {
      "cell_type": "markdown",
      "metadata": {
        "id": "view-in-github",
        "colab_type": "text"
      },
      "source": [
        "<a href=\"https://colab.research.google.com/github/Fenanda01/Desafio_Pandas/blob/main/desafiopython.ipynb\" target=\"_parent\"><img src=\"https://colab.research.google.com/assets/colab-badge.svg\" alt=\"Open In Colab\"/></a>"
      ]
    },
    {
      "cell_type": "code",
      "metadata": {
        "id": "qmz_EXxzesdP"
      },
      "source": [
        "#Desafio fibonacci"
      ],
      "execution_count": null,
      "outputs": []
    },
    {
      "cell_type": "code",
      "metadata": {
        "id": "43JbEg8ye3ZF"
      },
      "source": [
        "#Importando a biblioteca pandas, ela já vem instalada no colab\n",
        "import pandas as pd"
      ],
      "execution_count": null,
      "outputs": []
    },
    {
      "cell_type": "code",
      "metadata": {
        "colab": {
          "base_uri": "https://localhost:8080/"
        },
        "id": "ZUR_ieKoiDqv",
        "outputId": "40e5e647-ff98-4a0f-b57c-afcc9c0a6c1e"
      },
      "source": [
        "#Com o laço for\n",
        "n=int(input())\n",
        "i=0\n",
        "a=0\n",
        "b=1\n",
        "c=0\n",
        "for i in range(0,n+1):\n",
        "  print(a)\n",
        "  c=a\n",
        "  a=a+b\n",
        "  b=c\n",
        "  i+=1\n"
      ],
      "execution_count": 23,
      "outputs": [
        {
          "output_type": "stream",
          "name": "stdout",
          "text": [
            "2\n",
            "0\n",
            "1\n",
            "1\n"
          ]
        }
      ]
    },
    {
      "cell_type": "code",
      "metadata": {
        "colab": {
          "base_uri": "https://localhost:8080/"
        },
        "id": "BMMWg82Gm6En",
        "outputId": "9bb306ac-5662-4d2d-911b-932d14cc3b12"
      },
      "source": [
        "#Imprimir os números pares\n",
        "n=6\n",
        "for i in range(1,n+1):\n",
        "   if i%2 == 0:\n",
        "    print(i)"
      ],
      "execution_count": null,
      "outputs": [
        {
          "output_type": "stream",
          "name": "stdout",
          "text": [
            "2\n",
            "4\n",
            "6\n"
          ]
        }
      ]
    },
    {
      "cell_type": "code",
      "metadata": {
        "id": "ahRSyUoQ0wWv",
        "colab": {
          "base_uri": "https://localhost:8080/"
        },
        "outputId": "dace327c-263c-4cfa-9e56-328b2321b265"
      },
      "source": [
        "#Tarefa entregue no desafio\n",
        "n=int(input())\n",
        "i=0\n",
        "a=0\n",
        "b=1\n",
        "c=0\n",
        "#conjunto={0}\n",
        "#lista=[]\n",
        "while (i < n):\n",
        "  print(a, end=' ')\n",
        " #lista.append(a)\n",
        "  #conjunto.add(a)\n",
        "  c=a\n",
        "  a=a+b\n",
        "  b=c\n",
        " # a+=a\n",
        "  i+=1\n",
        "  #print(conjunto)\n",
        "#lista= str(lista)[1:-1]#Imprime sem os sochetes\n",
        "#print (*lista, sep=\"\")\n",
        "\n",
        "#print(''.join(lista))"
      ],
      "execution_count": 21,
      "outputs": [
        {
          "output_type": "stream",
          "name": "stdout",
          "text": [
            "5\n",
            "0 1 1 2 3 "
          ]
        }
      ]
    },
    {
      "cell_type": "code",
      "metadata": {
        "colab": {
          "base_uri": "https://localhost:8080/",
          "height": 252
        },
        "id": "4hMTMn9v2bh5",
        "outputId": "b8d6d13d-18d8-434b-a458-755d164c0922"
      },
      "source": [
        "#desafio 3 como foi entregue\n",
        "import sys\n",
        "\n",
        "N = int(input())\n",
        "pessoas = sys.stdin.readline().split()\n",
        "lowest_pos = 0\n",
        "\n",
        "for i in range(N): \n",
        "  if i == 0: \n",
        "    lowest = pessoas[i] \n",
        "    continue \n",
        "  if pessoas[i] < lowest: \n",
        "    lowest = pessoas[i] \n",
        "    lowest_pos = i \n",
        "print(lowest_pos + 1)"
      ],
      "execution_count": 45,
      "outputs": [
        {
          "name": "stdout",
          "output_type": "stream",
          "text": [
            "3\n"
          ]
        },
        {
          "output_type": "error",
          "ename": "IndexError",
          "evalue": "ignored",
          "traceback": [
            "\u001b[0;31m---------------------------------------------------------------------------\u001b[0m",
            "\u001b[0;31mIndexError\u001b[0m                                Traceback (most recent call last)",
            "\u001b[0;32m<ipython-input-45-ccfcd4876f75>\u001b[0m in \u001b[0;36m<module>\u001b[0;34m()\u001b[0m\n\u001b[1;32m      8\u001b[0m \u001b[0;32mfor\u001b[0m \u001b[0mi\u001b[0m \u001b[0;32min\u001b[0m \u001b[0mrange\u001b[0m\u001b[0;34m(\u001b[0m\u001b[0mN\u001b[0m\u001b[0;34m)\u001b[0m\u001b[0;34m:\u001b[0m\u001b[0;34m\u001b[0m\u001b[0;34m\u001b[0m\u001b[0m\n\u001b[1;32m      9\u001b[0m   \u001b[0;32mif\u001b[0m \u001b[0mi\u001b[0m \u001b[0;34m==\u001b[0m \u001b[0;36m0\u001b[0m\u001b[0;34m:\u001b[0m\u001b[0;34m\u001b[0m\u001b[0;34m\u001b[0m\u001b[0m\n\u001b[0;32m---> 10\u001b[0;31m     \u001b[0mlowest\u001b[0m \u001b[0;34m=\u001b[0m \u001b[0mpessoas\u001b[0m\u001b[0;34m[\u001b[0m\u001b[0mi\u001b[0m\u001b[0;34m]\u001b[0m\u001b[0;34m\u001b[0m\u001b[0;34m\u001b[0m\u001b[0m\n\u001b[0m\u001b[1;32m     11\u001b[0m     \u001b[0;32mcontinue\u001b[0m\u001b[0;34m\u001b[0m\u001b[0;34m\u001b[0m\u001b[0m\n\u001b[1;32m     12\u001b[0m   \u001b[0;32mif\u001b[0m \u001b[0mpessoas\u001b[0m\u001b[0;34m[\u001b[0m\u001b[0mi\u001b[0m\u001b[0;34m]\u001b[0m \u001b[0;34m<\u001b[0m \u001b[0mlowest\u001b[0m\u001b[0;34m:\u001b[0m\u001b[0;34m\u001b[0m\u001b[0;34m\u001b[0m\u001b[0m\n",
            "\u001b[0;31mIndexError\u001b[0m: list index out of range"
          ]
        }
      ]
    },
    {
      "cell_type": "code",
      "metadata": {
        "id": "C61g2tWy53-m"
      },
      "source": [
        "#Como veio\n",
        "N = int(input())\n",
        "persons = list(  )\n",
        "\n",
        "lowest_pos = 0\n",
        "for i in range(N):\n",
        "    if i == 0:\n",
        "        lowest = \n",
        "        continue\n",
        "    if              <              \n",
        "        lowest = persons[i]\n",
        "                  = i\n",
        "print(  persons   + 1)"
      ],
      "execution_count": null,
      "outputs": []
    }
  ]
}